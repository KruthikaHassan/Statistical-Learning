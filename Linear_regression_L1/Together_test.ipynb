{
 "cells": [
  {
   "cell_type": "code",
   "execution_count": 4,
   "metadata": {},
   "outputs": [
    {
     "ename": "ValueError",
     "evalue": "could not convert string to float: ",
     "output_type": "error",
     "traceback": [
      "\u001b[1;31m---------------------------------------------------------------------------\u001b[0m",
      "\u001b[1;31mValueError\u001b[0m                                Traceback (most recent call last)",
      "\u001b[1;32m<ipython-input-4-605eade0155f>\u001b[0m in \u001b[0;36m<module>\u001b[1;34m()\u001b[0m\n\u001b[0;32m     43\u001b[0m \u001b[1;33m\u001b[0m\u001b[0m\n\u001b[0;32m     44\u001b[0m \u001b[1;33m\u001b[0m\u001b[0m\n\u001b[1;32m---> 45\u001b[1;33m \u001b[0mmain\u001b[0m\u001b[1;33m(\u001b[0m\u001b[1;33m)\u001b[0m\u001b[1;33m\u001b[0m\u001b[0m\n\u001b[0m",
      "\u001b[1;32m<ipython-input-4-605eade0155f>\u001b[0m in \u001b[0;36mmain\u001b[1;34m()\u001b[0m\n\u001b[0;32m     30\u001b[0m \u001b[1;33m\u001b[0m\u001b[0m\n\u001b[0;32m     31\u001b[0m     \u001b[1;31m# Now train using linear regression\u001b[0m\u001b[1;33m\u001b[0m\u001b[1;33m\u001b[0m\u001b[0m\n\u001b[1;32m---> 32\u001b[1;33m     \u001b[0mweights\u001b[0m \u001b[1;33m=\u001b[0m \u001b[0mperform_lin_regression\u001b[0m\u001b[1;33m(\u001b[0m\u001b[0mall_features\u001b[0m\u001b[1;33m,\u001b[0m \u001b[0mtrain_data\u001b[0m\u001b[1;33m,\u001b[0m \u001b[0mtarget_feature\u001b[0m\u001b[1;33m)\u001b[0m\u001b[1;33m\u001b[0m\u001b[0m\n\u001b[0m\u001b[0;32m     33\u001b[0m \u001b[1;33m\u001b[0m\u001b[0m\n\u001b[0;32m     34\u001b[0m     \u001b[1;31m# Predict from validation\u001b[0m\u001b[1;33m\u001b[0m\u001b[1;33m\u001b[0m\u001b[0m\n",
      "\u001b[1;32m~\\Desktop\\course_materials\\ML_repo\\lin_reg.py\u001b[0m in \u001b[0;36mperform_lin_regression\u001b[1;34m(features, data, target_feature)\u001b[0m\n\u001b[0;32m     23\u001b[0m     \u001b[1;31m# Lets first constrict feature matrix\u001b[0m\u001b[1;33m\u001b[0m\u001b[1;33m\u001b[0m\u001b[0m\n\u001b[0;32m     24\u001b[0m     \u001b[0mfm\u001b[0m \u001b[1;33m=\u001b[0m \u001b[0mconstruct_feature_matrix\u001b[0m\u001b[1;33m(\u001b[0m\u001b[0mfeatures\u001b[0m\u001b[1;33m,\u001b[0m \u001b[0mdata\u001b[0m\u001b[1;33m)\u001b[0m\u001b[1;33m\u001b[0m\u001b[0m\n\u001b[1;32m---> 25\u001b[1;33m     \u001b[0mfm\u001b[0m \u001b[1;33m=\u001b[0m \u001b[0mfm\u001b[0m\u001b[1;33m.\u001b[0m\u001b[0mastype\u001b[0m\u001b[1;33m(\u001b[0m\u001b[0mfloat\u001b[0m\u001b[1;33m)\u001b[0m\u001b[1;33m\u001b[0m\u001b[0m\n\u001b[0m\u001b[0;32m     26\u001b[0m \u001b[1;33m\u001b[0m\u001b[0m\n\u001b[0;32m     27\u001b[0m     \u001b[1;31m# psudo inverse\u001b[0m\u001b[1;33m\u001b[0m\u001b[1;33m\u001b[0m\u001b[0m\n",
      "\u001b[1;31mValueError\u001b[0m: could not convert string to float: "
     ]
    }
   ],
   "source": [
    "''' Main module  '''\n",
    "\n",
    "import numpy as np\n",
    "import matplotlib.pyplot as plt\n",
    "from data_handling import *\n",
    "from lin_reg import *\n",
    "from results import *\n",
    "\n",
    "def main():\n",
    "    ''' Main function '''\n",
    "\n",
    "    numerical_variables = ['Lot Area', 'Lot Frontage', 'Year Built',   \\\n",
    "                       'Mas Vnr Area', 'BsmtFin SF 1', 'BsmtFin SF 2', \\\n",
    "                       'Bsmt Unf SF', 'Total Bsmt SF', '1st Flr SF',   \\\n",
    "                       '2nd Flr SF', 'Low Qual Fin SF', 'Gr Liv Area', \\\n",
    "                       'Garage Area', 'Wood Deck SF', 'Open Porch SF', \\\n",
    "                       'Enclosed Porch', '3Ssn Porch', 'Screen Porch', \\\n",
    "                       'Pool Area']\n",
    "    \n",
    "    discrete_variables = ['MS SubClass', 'MS Zoning', 'Street',        \\\n",
    "                      'Alley', 'Lot Shape', 'Land Contour',            \\\n",
    "                      'Utilities', 'Lot Config', 'Land Slope',         \\\n",
    "                      'Neighborhood', 'Condition 1', 'Condition 2',    \\\n",
    "                      'Bldg Type', 'House Style', 'Overall Qual',      \\\n",
    "                      'Overall Cond', 'Roof Style', 'Roof Matl',       \\\n",
    "                      'Exterior 1st', 'Exterior 2nd', 'Mas Vnr Type',  \\\n",
    "                      'Exter Qual', 'Exter Cond', 'Foundation',        \\\n",
    "                      'Bsmt Qual', 'Bsmt Cond', 'Bsmt Exposure',       \\\n",
    "                      'BsmtFin Type 1', 'Heating', 'Heating QC',       \\\n",
    "                      'Central Air', 'Electrical', 'Bsmt Full Bath',   \\\n",
    "                      'Bsmt Half Bath', 'Full Bath', 'Half Bath',      \\\n",
    "                      'Bedroom AbvGr', 'Kitchen AbvGr', 'Kitchen Qual',\\\n",
    "                      'TotRms AbvGrd', 'Functional', 'Fireplaces',     \\\n",
    "                      'Fireplace Qu', 'Garage Type', 'Garage Cars',    \\\n",
    "                      'Garage Qual', 'Garage Cond', 'Paved Drive',     \\\n",
    "                      'Pool QC', 'Fence', 'Sale Type', 'Sale Condition']\n",
    "\n",
    "    # First get parse the raw data\n",
    "    raw_data = load_data('AmesHousing.txt')\n",
    "    \n",
    "    # Organize raw data into features\n",
    "    clean_data = organize(raw_data, numerical_variables, discrete_variables)\n",
    "    all_features = list(clean_data.keys())\n",
    "    all_features.remove('Order')\n",
    "    all_features.remove('SalePrice')\n",
    "\n",
    "    # Split the data into train, validation and test\n",
    "    train_data, validation_data, test_data = split_data(clean_data)\n",
    "\n",
    "    # Our target feature:\n",
    "    target_feature = 'SalePrice'\n",
    "\n",
    "    # Now train using linear regression\n",
    "    weights = perform_lin_regression(all_features, train_data, target_feature)\n",
    "\n",
    "    # Predict from validation\n",
    "    predicted_vals = predict_target(weights, validation_data, all_features)\n",
    "    \n",
    "    # Calculate error\n",
    "    rmse = cal_rmse(predicted_vals, validation_data[target_feature])\n",
    "    \n",
    "    print(rmse)\n",
    "\n",
    "\n",
    "\n",
    "\n",
    "main()\n"
   ]
  },
  {
   "cell_type": "code",
   "execution_count": null,
   "metadata": {
    "collapsed": true
   },
   "outputs": [],
   "source": []
  }
 ],
 "metadata": {
  "kernelspec": {
   "display_name": "Python 3",
   "language": "python",
   "name": "python3"
  }
 },
 "nbformat": 4,
 "nbformat_minor": 2
}
