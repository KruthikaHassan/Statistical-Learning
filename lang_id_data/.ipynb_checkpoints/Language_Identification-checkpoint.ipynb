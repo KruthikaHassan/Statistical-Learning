{
 "cells": [
  {
   "cell_type": "code",
   "execution_count": 87,
   "metadata": {},
   "outputs": [],
   "source": [
    "import csv\n",
    "import numpy as np\n",
    "import nltk\n",
    "import matplotlib.pyplot as plt"
   ]
  },
  {
   "cell_type": "code",
   "execution_count": 114,
   "metadata": {},
   "outputs": [],
   "source": [
    "def read_file(filepath):\n",
    "    csv_file = open(filepath, encoding = 'utf-8')\n",
    "    csv_reader = csv.reader(csv_file, delimiter = '\\t')\n",
    "    labels = []\n",
    "    text   = []\n",
    "    for row in csv_reader:\n",
    "        labels.append(row[0])\n",
    "        text.append(row[1]) \n",
    "    return (text, labels)"
   ]
  },
  {
   "cell_type": "code",
   "execution_count": 130,
   "metadata": {},
   "outputs": [],
   "source": [
    "def build_vocab(text):\n",
    "    word_count = {}\n",
    "     word_list = list(line)\n",
    "    # Get a count of all words\n",
    "    '''for line in text:\n",
    "        word_list = list(line)\n",
    "        for word in word_list:\n",
    "            if word in word_count:\n",
    "                word_count[word] += 1\n",
    "            else:\n",
    "                word_count[word] = 1'''\n",
    "    \n",
    "    # words repeated more than 10 times\n",
    "    #vocab\n",
    "    #for key in word_count:  \n",
    "    return word_list"
   ]
  },
  {
   "cell_type": "code",
   "execution_count": 103,
   "metadata": {},
   "outputs": [],
   "source": [
    "def word_tokenizer(data):\n",
    "    text_list = []\n",
    "    word_token_list = []\n",
    "    labels_list = []\n",
    "    \n",
    "    for index in range(0, len(data)):\n",
    "        #text_list += data[index]\n",
    "        if index == 0:\n",
    "            labels_list = (data[index][0])\n",
    "        \n",
    "        labels_list.append(data[index][0])\n",
    "        \n",
    "    #for word in data_list:\n",
    "    #    word_token_list += nltk.word_tokenize(word)\n",
    "    \n",
    "    #freq_dist = nltk.FreqDist(word_token_list)\n",
    "        \n",
    "    return labels_list"
   ]
  },
  {
   "cell_type": "code",
   "execution_count": 117,
   "metadata": {},
   "outputs": [],
   "source": [
    "(text, labels) = read_file('train.tsv')\n"
   ]
  },
  {
   "cell_type": "code",
   "execution_count": 131,
   "metadata": {},
   "outputs": [
    {
     "data": {
      "text/plain": [
       "['@',\n",
       " '1',\n",
       " 'C',\n",
       " 'o',\n",
       " 'r',\n",
       " 'a',\n",
       " 'z',\n",
       " 'o',\n",
       " 'n',\n",
       " 'S',\n",
       " 'e',\n",
       " 'r',\n",
       " 'r',\n",
       " 'a',\n",
       " 'n',\n",
       " 'o',\n",
       " ' ',\n",
       " 'H',\n",
       " 'o',\n",
       " 'l',\n",
       " 'a',\n",
       " ' ',\n",
       " 'a',\n",
       " ' ',\n",
       " 'c',\n",
       " 'o',\n",
       " 'r',\n",
       " 'a',\n",
       " 'z',\n",
       " 'ó',\n",
       " 'n',\n",
       " ' ',\n",
       " 's',\n",
       " 'e',\n",
       " 'r',\n",
       " 'r',\n",
       " 'a',\n",
       " 'n',\n",
       " 'o',\n",
       " ' ',\n",
       " 'e',\n",
       " 'l',\n",
       " ' ',\n",
       " 'g',\n",
       " 'r',\n",
       " 'u',\n",
       " 'p',\n",
       " 'o',\n",
       " ' ',\n",
       " 'd',\n",
       " 'e',\n",
       " ' ',\n",
       " 'c',\n",
       " 'u',\n",
       " 'm',\n",
       " 'b',\n",
       " 'i',\n",
       " 'a',\n",
       " ' ',\n",
       " 'q',\n",
       " 'u',\n",
       " 'e',\n",
       " ' ',\n",
       " 'm',\n",
       " 'e',\n",
       " ' ',\n",
       " 'g',\n",
       " 'u',\n",
       " 's',\n",
       " 't',\n",
       " 'a',\n",
       " ',',\n",
       " ' ',\n",
       " 'e',\n",
       " 's',\n",
       " 'p',\n",
       " 'e',\n",
       " 'r',\n",
       " 'o',\n",
       " ' ',\n",
       " 'a',\n",
       " 'l',\n",
       " 'g',\n",
       " 'ú',\n",
       " 'n',\n",
       " ' ',\n",
       " 'd',\n",
       " 'í',\n",
       " 'a',\n",
       " ' ',\n",
       " 'm',\n",
       " 'e',\n",
       " ' ',\n",
       " 'e',\n",
       " 'n',\n",
       " 'v',\n",
       " 'í',\n",
       " 'a',\n",
       " 'n',\n",
       " ' ',\n",
       " 's',\n",
       " 'a',\n",
       " 'l',\n",
       " 'u',\n",
       " 'd',\n",
       " 'o',\n",
       " 's',\n",
       " ' ',\n",
       " 'G',\n",
       " 'R',\n",
       " 'A',\n",
       " 'C',\n",
       " 'I',\n",
       " 'A',\n",
       " 'S',\n",
       " ' ',\n",
       " 'Y',\n",
       " ' ',\n",
       " 'S',\n",
       " 'U',\n",
       " 'E',\n",
       " 'R',\n",
       " 'T',\n",
       " 'E',\n",
       " ' ',\n",
       " 'C',\n",
       " 'H',\n",
       " 'I',\n",
       " 'C',\n",
       " 'O',\n",
       " 'S',\n",
       " ' ',\n",
       " '!',\n",
       " '!',\n",
       " '!']"
      ]
     },
     "execution_count": 131,
     "metadata": {},
     "output_type": "execute_result"
    }
   ],
   "source": [
    "word_count = build_vocab(text) \n",
    "word_count"
   ]
  },
  {
   "cell_type": "code",
   "execution_count": 129,
   "metadata": {},
   "outputs": [
    {
     "data": {
      "text/plain": [
       "1395"
      ]
     },
     "execution_count": 129,
     "metadata": {},
     "output_type": "execute_result"
    }
   ],
   "source": [
    "len(word_count)"
   ]
  },
  {
   "cell_type": "code",
   "execution_count": 101,
   "metadata": {},
   "outputs": [
    {
     "name": "stdout",
     "output_type": "stream",
     "text": [
      "None\n"
     ]
    }
   ],
   "source": [
    "l = 'en'\n",
    "g='ek'\n",
    "f=[]\n",
    "f =f.append(l)\n",
    "print(f)"
   ]
  },
  {
   "cell_type": "code",
   "execution_count": null,
   "metadata": {},
   "outputs": [],
   "source": []
  }
 ],
 "metadata": {
  "kernelspec": {
   "display_name": "Python 3",
   "language": "python",
   "name": "python3"
  },
  "language_info": {
   "codemirror_mode": {
    "name": "ipython",
    "version": 3
   },
   "file_extension": ".py",
   "mimetype": "text/x-python",
   "name": "python",
   "nbconvert_exporter": "python",
   "pygments_lexer": "ipython3",
   "version": "3.5.4"
  }
 },
 "nbformat": 4,
 "nbformat_minor": 2
}
